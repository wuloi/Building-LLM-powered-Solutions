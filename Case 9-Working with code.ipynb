{
  "cells": [
    {
      "cell_type": "markdown",
      "metadata": {
        "id": "WLjPPHeIq7Um"
      },
      "source": [
        "# Working with code"
      ]
    },
    {
      "cell_type": "markdown",
      "metadata": {
        "id": "FO-5bb9Kq7Ur"
      },
      "source": [
        "## Code understanding and generation"
      ]
    },
    {
      "cell_type": "code",
      "execution_count": null,
      "metadata": {
        "id": "Pepx6pBiq7Ut"
      },
      "outputs": [],
      "source": [
        "import os\n",
        "from dotenv import load_dotenv\n",
        "\n",
        "load_dotenv()\n",
        "\n",
        "hugging_face_api = os.environ[\"HUGGINGFACEHUB_API_TOKEN\"]\n",
        "falcon_endpoint = os.environ['FALCON_LLM_ENDPOINT']\n",
        "codellama_endpoint = os.environ['CODELLAMA_LLM_ENDPOINT']"
      ]
    },
    {
      "cell_type": "code",
      "execution_count": null,
      "metadata": {
        "id": "3fw5Vg0jq7Uu"
      },
      "outputs": [],
      "source": []
    },
    {
      "cell_type": "markdown",
      "metadata": {
        "id": "HIcOKQazq7Uu"
      },
      "source": [
        "### StarCoder"
      ]
    },
    {
      "cell_type": "code",
      "execution_count": null,
      "metadata": {
        "id": "g3b5ffpSq7Uu"
      },
      "outputs": [],
      "source": [
        "from langchain import HuggingFaceHub\n",
        "from langchain import PromptTemplate, LLMChain\n",
        "\n",
        "repo_id = \"bigcode/starcoderplus\"\n",
        "\n",
        "llm = HuggingFaceHub(\n",
        "    repo_id=repo_id,  model_kwargs={\"temperature\": 0.2, \"max_new_tokens\": 1000}\n",
        ")\n"
      ]
    },
    {
      "cell_type": "code",
      "execution_count": null,
      "metadata": {
        "id": "lfspDVnzq7Uu",
        "outputId": "7f93764b-a887-424c-b670-ab64d916bd1d"
      },
      "outputs": [
        {
          "name": "stdout",
          "output_type": "stream",
          "text": [
            "\n",
            "## Solution\n",
            "\n",
            "```python\n",
            "def fibonacci(n):\n",
            "    if n == 0:\n",
            "        return 0\n",
            "    elif n == 1:\n",
            "        return 1\n",
            "    else:\n",
            "        return fibonacci(n-1) + fibonacci(n-2)\n",
            "```\n",
            "\n",
            "## Explanation\n",
            "\n",
            "This solution is a recursive function. It uses the base cases of 0 and 1 to return the first two Fibonacci numbers. Otherwise, it calls itself with the previous two Fibonacci numbers to get the next Fibonacci number.\n",
            "\n",
            "## Alternative Solution\n",
            "\n",
            "```python\n",
            "def fibonacci(n):\n",
            "    a, b = 0, 1\n",
            "    for _ in range(n):\n",
            "        a, b = b, a + b\n",
            "    return a\n",
            "```\n",
            "\n",
            "This solution is a loop. It uses the base cases of 0 and 1 to return the first two Fibonacci numbers. Otherwise, it uses the previous two Fibonacci numbers to get the next Fibonacci number.\n",
            "\n",
            "## Complexity Analysis\n",
            "\n",
            "* Time complexity: O(n).\n",
            "* Space complexity: O(n).\n",
            "<|endoftext|>\n"
          ]
        }
      ],
      "source": [
        "prompt = \"\"\"\n",
        "How can I write a Python function to generate the nth Fibonacci number?\n",
        "\"\"\"\n",
        "print(llm(prompt))"
      ]
    },
    {
      "cell_type": "code",
      "execution_count": null,
      "metadata": {
        "id": "qdHUtZbLq7Uv",
        "outputId": "069e65af-0a96-46ce-85f0-21a03d61c83b"
      },
      "outputs": [
        {
          "name": "stdout",
          "output_type": "stream",
          "text": [
            "\n",
            "## How to use\n",
            "\n",
            "```\n",
            "git clone https://github.com/Mohamed-Elhawary/tic-tac-toe.git\n",
            "cd tic-tac-toe\n",
            "python3 -m http.server\n",
            "```\n",
            "\n",
            "## License\n",
            "\n",
            "[MIT](https://choosealicense.com/licenses/mit/)\n",
            "<|endoftext|>\n"
          ]
        }
      ],
      "source": [
        "prompt = \"\"\"\n",
        "Generate the html code for a single page website that let the user play tic tac toe.\n",
        "\"\"\"\n",
        "print(llm(prompt))"
      ]
    },
    {
      "cell_type": "code",
      "execution_count": null,
      "metadata": {
        "id": "VjEdDpvPq7Uw"
      },
      "outputs": [],
      "source": [
        "#function to generate the nth fibonacci number\n",
        "def"
      ]
    },
    {
      "cell_type": "markdown",
      "metadata": {
        "id": "TtGSMy8_q7Uw"
      },
      "source": [
        "### CodeLlama"
      ]
    },
    {
      "cell_type": "code",
      "execution_count": null,
      "metadata": {
        "id": "h_1FQZTkq7Uw"
      },
      "outputs": [],
      "source": [
        "#option 1: Inference API\n",
        "from langchain.llms import HuggingFaceHub\n",
        "\n",
        "llm = HuggingFaceEndpoint(endpoint_url = codellama_endpoint, task = 'text-generation',\n",
        "        model_kwargs = {\"max_new_tokens\": 1100})"
      ]
    },
    {
      "cell_type": "code",
      "execution_count": null,
      "metadata": {
        "id": "0DObDaHMq7Ux"
      },
      "outputs": [],
      "source": [
        "#Option 2: free HF API\n",
        "\n",
        "from langchain import HuggingFaceHub\n",
        "from langchain import PromptTemplate, LLMChain\n",
        "\n",
        "repo_id = \"codellama/CodeLlama-7b-Instruct-hf\"\n",
        "\n",
        "llm = HuggingFaceHub(\n",
        "    repo_id=repo_id,  model_kwargs={\"temperature\": 0.2, \"max_new_tokens\": 1000}\n",
        ")"
      ]
    },
    {
      "cell_type": "code",
      "execution_count": null,
      "metadata": {
        "id": "UfDnRnjPq7Ux",
        "outputId": "13dd5f99-64e8-4899-b6c0-9e96778f33e0"
      },
      "outputs": [
        {
          "name": "stdout",
          "output_type": "stream",
          "text": [
            "\n",
            "### Solution\n",
            "\n",
            "```\n",
            "def factorial(n):\n",
            "    if n == 0:\n",
            "        return 1\n",
            "    else:\n",
            "        return n * factorial(n - 1)\n",
            "```\n",
            "\n",
            "### Explanation\n",
            "\n",
            "The solution is a recursive function that calls itself until the base case is reached.\n",
            "\n",
            "### References\n",
            "\n",
            "- [Wikipedia](https://en.wikipedia.org/wiki/Factorial)\n",
            "- [Math is Fun](https://www.mathsisfun.com/numbers/factorial.html)\n",
            "- [Mathematics Stack Exchange](https://math.stackexchange.com/questions/117042/what-is-the-difference-between-factorial-and-permutation)\n",
            "- [Mathematics Stack Exchange](https://math.stackexchange.com/questions/117042/what-is-the-difference-between-factorial-and-permutation)\n",
            "- [Mathematics Stack Exchange](https://math.stackexchange.com/questions/117042/what-is-the-difference-between-factorial-and-permutation)\n",
            "- [Mathematics Stack Exchange](https://math.stackexchange.com/questions/117042/what-is-the-difference-between-factorial-and-permutation)\n",
            "- [Mathematics Stack Exchange](https://math.stackexchange.com/questions/117042/what-is-the-difference-between-factorial-and-permutation)\n",
            "- [Mathematics Stack Exchange](https://math.stackexchange.com/questions/117042/what-is-the-difference-between-factorial-and-permutation)\n",
            "- [Mathematics Stack Exchange](https://math.stackexchange.com/questions/117042/what-is-the-difference-between-factorial-and-permutation)\n",
            "- [Mathematics Stack Exchange](https://math.stackexchange.com/questions/117042/what-is-the-difference-between-factorial-and-permutation)\n",
            "- [Mathematics Stack Exchange](https://math.stackexchange.com/questions/117042/what-is-the-difference-between-factorial-and-permutation)\n",
            "- [Mathematics Stack Exchange](https://math.stackexchange.com/questions/117042/what-is-the-difference-between-factorial-and-permutation)\n",
            "- [Mathematics Stack Exchange](https://math.stackexchange.com/questions/117042/what-is-the-difference-between-factorial-and-permutation)\n",
            "- [Mathematics Stack Exchange](https://math.stackexchange.com/questions/117042/what-is-the-difference-between-factorial-and-permutation)\n",
            "- [Mathematics Stack Exchange](https://math.stackexchange.com/questions/117042/what-is-the-difference-between-factorial-and-permutation)\n",
            "- [Mathematics Stack Exchange](https://math.stackexchange.com/questions/117042/what-is-the-difference-between-factorial-and-permutation)\n",
            "- [Mathematics Stack Exchange](https://math.stackexchange.com/questions/117042/what-is-the-difference-between-factorial-and-permutation)\n",
            "- [Mathematics Stack Exchange](https://math.stackexchange.com/questions/117042/what-is-the-difference-between-factorial-and-permutation)\n",
            "- [Mathematics Stack Exchange](https://math.stackexchange.com/questions/117042/what-is-the-difference-between-factorial-and-permutation)\n",
            "- [Mathematics Stack Exchange](https://math.stackexchange.com/questions/117042/what-is-the-difference-between-factorial-and-permutation)\n",
            "- [Mathematics Stack Exchange](https://math.stackexchange.com/questions/117042/what-is-the-difference-between-factorial-and-permutation)\n",
            "- [Mathematics Stack Exchange](https://math.stackexchange.com/questions/117042/what-is-the-difference-between-factorial-and-permutation)\n",
            "- [Mathematics Stack Exchange](https://math.stackexchange.com/questions/117042/what-is-the-difference-between-factorial-and-permutation)\n",
            "- [Mathematics Stack Exchange](https://math\n"
          ]
        }
      ],
      "source": [
        "prompt = \"\"\"\n",
        "Regenerate the following code in a more efficient way.\n",
        "```\n",
        "def factorial(n):\n",
        "    result = 1\n",
        "    for i in range(1, n + 1):\n",
        "        result *= i\n",
        "    return result\n",
        "```\n",
        "\"\"\"\n",
        "print(llm(prompt))"
      ]
    },
    {
      "cell_type": "code",
      "execution_count": null,
      "metadata": {
        "id": "L8U4RceSq7Ux",
        "outputId": "5e0f5e6a-2390-46e8-aa47-028e6ca0095f"
      },
      "outputs": [
        {
          "name": "stdout",
          "output_type": "stream",
          "text": [
            "- The function is using the wrong syntax for the `randint` function. The correct syntax is `randint(start, end)`. \n",
            "- The `for` loop is using the wrong syntax. The correct syntax is `for i in range(start, end)`. \n",
            "- The `question` and `answer` variables are not being used in the loop. \n",
            "- The `if` statement is not being used correctly. It should be `if answer == a * b:`. \n",
            "- The `print` statement is not being used correctly. It should be `print(Well done!)`.\n"
          ]
        }
      ],
      "source": [
        "prompt = \"\"\"\n",
        "Identify the bug in the following code:.\n",
        "```\n",
        "#wrong function\n",
        "import random\n",
        "a = random.randint(1, 12)\n",
        "b = random.randint(1, 12)\n",
        "for i in range(10):\n",
        "    question = \"What is \" + a + \" x \" + b + \"? \"\n",
        "    answer = input(question)\n",
        "    if answer = a * b:\n",
        "        print (Well done!)\n",
        "    else:\n",
        "        print(\"No.\")\n",
        "```\n",
        "Explanation:\n",
        "\"\"\"\n",
        "print(llm(prompt))"
      ]
    },
    {
      "cell_type": "code",
      "execution_count": null,
      "metadata": {
        "id": "jPtKYDAJq7Ux",
        "outputId": "aad859cf-073e-48d9-df92-cbb3a86338da"
      },
      "outputs": [
        {
          "name": "stdout",
          "output_type": "stream",
          "text": [
            "\n",
            "def longest_unique_substring(s):\n",
            "    unique_count = 0\n",
            "    longest_substring = \"\"\n",
            "    for i in range(1, len(s)):\n",
            "        if s[i] not in unique_count:\n",
            "            unique_count += 1\n",
            "            longest_substring = s[i]\n",
            "    return longest_substring\n"
          ]
        }
      ],
      "source": [
        "prompt = \"\"\"\n",
        "Write a Python function that finds the longest substring of a given string containing only unique characters.\n",
        "\"\"\"\n",
        "print(llm(prompt))"
      ]
    },
    {
      "cell_type": "code",
      "execution_count": null,
      "metadata": {
        "id": "FYCcZy27q7Ux",
        "outputId": "c86157ca-6822-429d-ea0a-fb2ff128b5fc"
      },
      "outputs": [
        {
          "name": "stdout",
          "output_type": "stream",
          "text": [
            "def remove_non_ascii(string):\n",
            "    return string.encode('ascii', 'ignore').decode('utf-8')\n"
          ]
        }
      ],
      "source": [
        "prompt = '''\n",
        "Define a python function that remove non-ascii character from a string.\n",
        "'''\n",
        "print(llm(prompt))"
      ]
    },
    {
      "cell_type": "markdown",
      "metadata": {
        "id": "BtwBLvOqq7Ux"
      },
      "source": [
        "### FalconLLM"
      ]
    },
    {
      "cell_type": "code",
      "execution_count": null,
      "metadata": {
        "id": "QxII843tq7Ux"
      },
      "outputs": [],
      "source": [
        "from langchain.llms import HuggingFaceHub\n",
        "\n",
        "llm = HuggingFaceEndpoint(endpoint_url = falcon_endpoint, task = 'text-generation',\n",
        "        model_kwargs = {\"max_new_tokens\": 1100})"
      ]
    },
    {
      "cell_type": "code",
      "execution_count": null,
      "metadata": {
        "id": "wHDlP8Myq7Ux",
        "outputId": "d1267025-6257-489b-a6fa-5de65a92a420"
      },
      "outputs": [
        {
          "name": "stdout",
          "output_type": "stream",
          "text": [
            "<head>\n",
            "    <title>My Webpage</title>\n",
            "</head>\n",
            "<body>\n",
            "    <h1>My Webpage</h1>\n",
            "    <h2>Subheader</h2>\n",
            "    <p>This is the text body.</p>\n",
            "</body>\n",
            "</html>\n"
          ]
        }
      ],
      "source": [
        "prompt = \"\"\"\n",
        "Generate a short html code to a simple webpage with a header, a subheader, and a text body.\n",
        "<!DOCTYPE html>\n",
        "<html>\n",
        "\"\"\"\n",
        "print(llm(prompt))"
      ]
    },
    {
      "cell_type": "code",
      "execution_count": null,
      "metadata": {
        "id": "qnGvX_xzq7Uy",
        "outputId": "b53c7fbc-efb9-4dc1-fb3a-771ea61b3b17"
      },
      "outputs": [
        {
          "name": "stdout",
          "output_type": "stream",
          "text": [
            "\n",
            "import random\n",
            "\n",
            "def generate_password():\n",
            "    chars = \"abcdefghijklmnopqrstuvwxyz0123456789\"\n",
            "    lenght = 12\n",
            "    num = random.randint(1, 9)\n",
            "    cap = random.randint(1, 9)\n",
            "    password = \"\"\n",
            "    for i in range(lenght):\n",
            "        password += chars[random.randint(0, 9)]\n",
            "    password += num\n",
            "    password += cap\n",
            "    return password\n",
            "\n",
            "print(generate_password())\n"
          ]
        }
      ],
      "source": [
        "prompt = \"\"\"\n",
        "Generate a python program that create random password with lenght of 12 characters, 3 numbers, one capital letter.\n",
        "\"\"\"\n",
        "print(llm(prompt))"
      ]
    },
    {
      "cell_type": "code",
      "execution_count": null,
      "metadata": {
        "id": "E4Y0-lSfq7Uy",
        "outputId": "91e3e9ff-9254-4a31-def6-ba643b7795df"
      },
      "outputs": [
        {
          "name": "stdout",
          "output_type": "stream",
          "text": [
            "<p>The code generates a random password of length 12 characters that contains a mix of letters, numbers, and special characters. The password is then printed to the console.</p>\n"
          ]
        }
      ],
      "source": [
        "prompt = \"\"\"\n",
        "Explain to me the following code:\n",
        "\n",
        "def generate_password():\n",
        "    chars = \"abcdefghijklmnopqrstuvwxyz0123456789\"\n",
        "    lenght = 12\n",
        "    num = random.randint(1, 9)\n",
        "    cap = random.randint(1, 9)\n",
        "    password = \"\"\n",
        "    for i in range(lenght):\n",
        "        password += chars[random.randint(0, 9)]\n",
        "    password += num\n",
        "    password += cap\n",
        "    return password\n",
        "\n",
        "print(generate_password())\n",
        "\n",
        "\"\"\"\n",
        "print(llm(prompt))"
      ]
    },
    {
      "cell_type": "code",
      "execution_count": null,
      "metadata": {
        "id": "k7j77ArWq7Uy"
      },
      "outputs": [],
      "source": [
        "from langchain import HuggingFaceHub\n",
        "from langchain import PromptTemplate, LLMChain\n",
        "\n",
        "repo_id = \"tiiuae/falcon-7b-instruct\"\n",
        "\n",
        "llm = HuggingFaceHub(\n",
        "    repo_id=repo_id,  model_kwargs={\"temperature\": 0.2, \"max_new_tokens\": 1000}\n",
        ")"
      ]
    },
    {
      "cell_type": "code",
      "execution_count": null,
      "metadata": {
        "id": "wKaBUZRxq7Uy"
      },
      "outputs": [],
      "source": [
        "prompt = \"\"\"\n",
        "Generate the html code for a newslatter webpage.\n",
        "<!DOCTYPE html>\n",
        "<title>\n",
        "\n",
        "\"\"\"\n",
        "print(llm(prompt))"
      ]
    },
    {
      "cell_type": "markdown",
      "metadata": {
        "id": "4vSMO3PMq7Uy"
      },
      "source": [
        "## Code Interpreter"
      ]
    },
    {
      "cell_type": "code",
      "execution_count": null,
      "metadata": {
        "colab": {
          "base_uri": "https://localhost:8080/"
        },
        "id": "2Z3Gh5vHLEos",
        "outputId": "2c3ba597-6678-4d30-a04c-3b761a0d2e0e"
      },
      "outputs": [
        {
          "output_type": "stream",
          "name": "stdout",
          "text": [
            "\u001b[2K     \u001b[90m━━━━━━━━━━━━━━━━━━━━━━━━━━━━━━━━━━━━━━━━\u001b[0m \u001b[32m1.7/1.7 MB\u001b[0m \u001b[31m17.7 MB/s\u001b[0m eta \u001b[36m0:00:00\u001b[0m\n",
            "\u001b[2K     \u001b[90m━━━━━━━━━━━━━━━━━━━━━━━━━━━━━━━━━━━━━━━━\u001b[0m \u001b[32m76.5/76.5 kB\u001b[0m \u001b[31m6.2 MB/s\u001b[0m eta \u001b[36m0:00:00\u001b[0m\n",
            "\u001b[2K     \u001b[90m━━━━━━━━━━━━━━━━━━━━━━━━━━━━━━━━━━━━━━\u001b[0m \u001b[32m374.5/374.5 kB\u001b[0m \u001b[31m24.7 MB/s\u001b[0m eta \u001b[36m0:00:00\u001b[0m\n",
            "\u001b[2K     \u001b[90m━━━━━━━━━━━━━━━━━━━━━━━━━━━━━━━━━━━━━━━\u001b[0m \u001b[32m129.9/129.9 kB\u001b[0m \u001b[31m7.1 MB/s\u001b[0m eta \u001b[36m0:00:00\u001b[0m\n",
            "\u001b[2K     \u001b[90m━━━━━━━━━━━━━━━━━━━━━━━━━━━━━━━━━━━━━━━━\u001b[0m \u001b[32m1.9/1.9 MB\u001b[0m \u001b[31m60.8 MB/s\u001b[0m eta \u001b[36m0:00:00\u001b[0m\n",
            "\u001b[2K     \u001b[90m━━━━━━━━━━━━━━━━━━━━━━━━━━━━━━━━━━━━━━━━\u001b[0m \u001b[32m49.4/49.4 kB\u001b[0m \u001b[31m3.6 MB/s\u001b[0m eta \u001b[36m0:00:00\u001b[0m\n",
            "\u001b[?25h"
          ]
        }
      ],
      "source": [
        "!pip install -q codeinterpreterapi"
      ]
    },
    {
      "cell_type": "code",
      "source": [
        "from google.colab import drive\n",
        "drive.mount('/content/drive')"
      ],
      "metadata": {
        "colab": {
          "base_uri": "https://localhost:8080/"
        },
        "outputId": "343a78c1-9aa0-4112-e3f1-c0ef73b1696d",
        "id": "4t6Gaob-GLpx"
      },
      "execution_count": null,
      "outputs": [
        {
          "output_type": "stream",
          "name": "stdout",
          "text": [
            "Mounted at /content/drive\n"
          ]
        }
      ]
    },
    {
      "cell_type": "code",
      "source": [
        "!pip install jupyter-kernel-gateway"
      ],
      "metadata": {
        "id": "T8J9xQpqLaM8"
      },
      "execution_count": null,
      "outputs": []
    },
    {
      "cell_type": "code",
      "source": [
        "from codeinterpreterapi import CodeInterpreterSession\n",
        "\n",
        "import os\n",
        "from dotenv import load_dotenv\n",
        "\n",
        "load_dotenv()\n",
        "\n",
        "#os.environ[\"HUGGINGFACEHUB_API_TOKEN\"]\n",
        "os.environ['OPENAI_API_KEY']\n",
        "os.environ['VERBOSE'] = \"True\"\n",
        "\n",
        "# create a session\n",
        "async with CodeInterpreterSession() as session:\n",
        "    # generate a response based on user input\n",
        "    response = await session.generate_response(\n",
        "        \"Generate a plot of the evolution of Covid-19 from March to June 2020, taking data from web.\"\n",
        "    )\n",
        "\n",
        "    # output the response\n",
        "    print(\"AI: \", response.content)\n",
        "    for file in response.files:\n",
        "        file.show_image()"
      ],
      "metadata": {
        "colab": {
          "base_uri": "https://localhost:8080/",
          "height": 758
        },
        "id": "ITgEfQrQLK4c",
        "outputId": "c65a9e04-56e2-4a93-e934-21eabb59d6c5"
      },
      "execution_count": null,
      "outputs": [
        {
          "output_type": "stream",
          "name": "stdout",
          "text": [
            "INFO: Using a LocalBox which is not fully isolated\n",
            "      and not scalable across multiple users.\n",
            "      Make sure to use a CODEBOX_API_KEY in production.\n",
            "      Set envar SHOW_INFO=False to not see this again.\n",
            "\n",
            "DEPRECATION WARNING: Use agenerate_response for async generation.\n",
            "This function will be converted to sync in the future.\n",
            "You can use generate_response_sync for now.\n"
          ]
        },
        {
          "output_type": "stream",
          "name": "stderr",
          "text": [
            "WARNING:langchain.llms.base:Retrying langchain.chat_models.openai.acompletion_with_retry.<locals>._completion_with_retry in 4.0 seconds as it raised ServiceUnavailableError: The server is overloaded or not ready yet..\n"
          ]
        },
        {
          "output_type": "stream",
          "name": "stdout",
          "text": [
            "AI:  Here is the plot showing the evolution of global daily confirmed COVID-19 cases from March to June 2020. As you can see, the number of cases has been increasing over time during this period. Please note that these numbers are cumulative. Each point on the graph represents the total number of confirmed cases up to that date, not just the new cases on that day.\n"
          ]
        },
        {
          "output_type": "display_data",
          "data": {
            "text/plain": [
              "<PIL.Image.Image image mode=RGB size=856x547>"
            ],
            "image/png": "[encoded data removed]"
          },
          "metadata": {}
        }
      ]
    },
    {
      "cell_type": "code",
      "source": [],
      "metadata": {
        "id": "CT-c_HSkGWCG"
      },
      "execution_count": null,
      "outputs": []
    },
    {
      "cell_type": "code",
      "source": [
        "# create a session\n",
        "async with CodeInterpreterSession() as session:\n",
        "    # generate a response based on user input\n",
        "    response = await session.generate_response(\n",
        "        \"Generate a plot of the price of S&P500 index in the last 5 days.\"\n",
        "    )\n",
        "\n",
        "    # output the response\n",
        "    print(\"AI: \", response.content)\n",
        "    for file in response.files:\n",
        "        file.show_image()"
      ],
      "metadata": {
        "colab": {
          "base_uri": "https://localhost:8080/",
          "height": 643
        },
        "id": "402CDO544c0L",
        "outputId": "9335e218-8f20-4919-a0af-3fc622e1062e"
      },
      "execution_count": null,
      "outputs": [
        {
          "output_type": "stream",
          "name": "stdout",
          "text": [
            "INFO: Using a LocalBox which is not fully isolated\n",
            "      and not scalable across multiple users.\n",
            "      Make sure to use a CODEBOX_API_KEY in production.\n",
            "      Set envar SHOW_INFO=False to not see this again.\n",
            "\n",
            "DEPRECATION WARNING: Use agenerate_response for async generation.\n",
            "This function will be converted to sync in the future.\n",
            "You can use generate_response_sync for now.\n",
            "AI:  Here is the plot of the S&P 500 index for the last 5 days. The y-axis represents the closing price of the index, and the x-axis represents the date.\n"
          ]
        },
        {
          "output_type": "display_data",
          "data": {
            "text/plain": [
              "<PIL.Image.Image image mode=RGB size=569x450>"
            ],
            "image/png": "[encoded data removed]"
          },
          "metadata": {}
        }
      ]
    },
    {
      "cell_type": "code",
      "source": [
        "from codeinterpreterapi import CodeInterpreterSession, File\n",
        "\n",
        "\n",
        "async with CodeInterpreterSession() as session:\n",
        "        # define the user request\n",
        "        user_request = \"Analyze this dataset and plot something interesting about it.\"\n",
        "        files = [\n",
        "            File.from_path(\"tested.csv\"),\n",
        "        ]\n",
        "\n",
        "        # generate the response\n",
        "        response = await session.generate_response(\n",
        "            user_request, files=files\n",
        "        )\n",
        "\n",
        "        # output to the user\n",
        "        print(\"AI: \", response.content)\n",
        "        for file in response.files:\n",
        "            file.show_image()"
      ],
      "metadata": {
        "colab": {
          "base_uri": "https://localhost:8080/",
          "height": 1000
        },
        "id": "WMhige1CwccB",
        "outputId": "c5d249b9-d969-48d8-b8bd-43dc3100544b"
      },
      "execution_count": null,
      "outputs": [
        {
          "output_type": "stream",
          "name": "stdout",
          "text": [
            "INFO: Using a LocalBox which is not fully isolated\n",
            "      and not scalable across multiple users.\n",
            "      Make sure to use a CODEBOX_API_KEY in production.\n",
            "      Set envar SHOW_INFO=False to not see this again.\n",
            "\n",
            "DEPRECATION WARNING: Use agenerate_response for async generation.\n",
            "This function will be converted to sync in the future.\n",
            "You can use generate_response_sync for now.\n"
          ]
        },
        {
          "output_type": "stream",
          "name": "stderr",
          "text": [
            "WARNING:langchain.llms.base:Retrying langchain.chat_models.openai.acompletion_with_retry.<locals>._completion_with_retry in 4.0 seconds as it raised ServiceUnavailableError: The server is overloaded or not ready yet..\n"
          ]
        },
        {
          "output_type": "stream",
          "name": "stdout",
          "text": [
            "AI:  The plot shows the survival count based on the passenger class. It appears that passengers in the 3rd class had a significantly lower survival rate compared to those in the 1st and 2nd classes. This could suggest that the class of the passengers might have influenced their survival, possibly due to factors such as the location of their cabins and access to lifeboats.\n",
            "\n",
            "These are just a few examples of the kind of insights we can extract from this dataset. Depending on the specific questions you're interested in, we could perform further analysis. For example, we could look at the survival rate based on age, or investigate whether the fare passengers paid had any influence on their survival.\n"
          ]
        },
        {
          "output_type": "display_data",
          "data": {
            "text/plain": [
              "<PIL.Image.Image image mode=RGB size=850x547>"
            ],
            "image/png": "[encoded data removed]"
          },
          "metadata": {}
        },
        {
          "output_type": "display_data",
          "data": {
            "text/plain": [
              "<PIL.Image.Image image mode=RGB size=850x547>"
            ],
            "image/png": "[encoded data removed]"
          },
          "metadata": {}
        }
      ]
    },
    {
      "cell_type": "code",
      "source": [],
      "metadata": {
        "id": "y5FsObaGGMmu"
      },
      "execution_count": null,
      "outputs": []
    },
    {
      "cell_type": "markdown",
      "metadata": {
        "id": "AYD2W9m6q7Uy"
      },
      "source": [
        "## Act as an algorithm"
      ]
    },
    {
      "cell_type": "code",
      "execution_count": null,
      "metadata": {
        "id": "kkECKcIeq7Uz"
      },
      "outputs": [],
      "source": [
        "from langchain.agents.agent_toolkits import create_python_agent\n",
        "from langchain.tools.python.tool import PythonREPLTool\n",
        "from langchain.python import PythonREPL\n",
        "from langchain.llms.openai import OpenAI\n",
        "from langchain.agents.agent_types import AgentType\n",
        "from langchain.chat_models import ChatOpenAI\n",
        "\n",
        "import os\n",
        "from dotenv import load_dotenv\n",
        "\n",
        "load_dotenv()\n",
        "\n",
        "openai_api_key = os.environ['OPENAI_API_KEY']\n",
        "\n",
        "model = ChatOpenAI(temperature=0, model=\"gpt-3.5-turbo-0613\")"
      ]
    },
    {
      "cell_type": "code",
      "execution_count": null,
      "metadata": {
        "id": "i2XE7nFvq7Uz",
        "outputId": "1b4bb152-25bf-48bf-d54d-abe6a45e02fa"
      },
      "outputs": [
        {
          "name": "stdout",
          "output_type": "stream",
          "text": [
            "You are an agent designed to write and execute python code to answer questions.\n",
            "You have access to a python REPL, which you can use to execute python code.\n",
            "If you get an error, debug your code and try again.\n",
            "Only use the output of your code to answer the question. \n",
            "You might know the answer without running any code, but you should still run the code to get the answer.\n",
            "If it does not seem like you can write code to answer the question, just return \"I don't know\" as the answer.\n",
            "\n",
            "\n",
            "Python_REPL: A Python shell. Use this to execute python commands. Input should be a valid python command. If you want to see the output of a value, you should print it out with `print(...)`.\n",
            "\n",
            "Use the following format:\n",
            "\n",
            "Question: the input question you must answer\n",
            "Thought: you should always think about what to do\n",
            "Action: the action to take, should be one of [Python_REPL]\n",
            "Action Input: the input to the action\n",
            "Observation: the result of the action\n",
            "... (this Thought/Action/Action Input/Observation can repeat N times)\n",
            "Thought: I now know the final answer\n",
            "Final Answer: the final answer to the original input question\n",
            "\n",
            "Begin!\n",
            "\n",
            "Question: {input}\n",
            "Thought:{agent_scratchpad}\n"
          ]
        }
      ],
      "source": [
        "agent_executor = create_python_agent(\n",
        "    llm=model,\n",
        "    tool=PythonREPLTool(),\n",
        "    verbose=True,\n",
        "    agent_type=AgentType.ZERO_SHOT_REACT_DESCRIPTION,\n",
        ")\n",
        "\n",
        "print(agent_executor.agent.llm_chain.prompt.template)"
      ]
    },
    {
      "cell_type": "code",
      "execution_count": null,
      "metadata": {
        "id": "FBNk30OAq7Uz"
      },
      "outputs": [],
      "source": [
        "agent_executor = create_python_agent(\n",
        "    llm=model,\n",
        "    tool=PythonREPLTool(),\n",
        "    verbose=True,\n",
        "    agent_type=AgentType.OPENAI_FUNCTIONS,\n",
        "    agent_executor_kwargs={\"handle_parsing_errors\": True},\n",
        ")"
      ]
    },
    {
      "cell_type": "code",
      "execution_count": null,
      "metadata": {
        "id": "Oa-jmY34q7Uz",
        "outputId": "af9b5de7-a469-474f-9964-b134b3a69f9d"
      },
      "outputs": [
        {
          "name": "stdout",
          "output_type": "stream",
          "text": [
            "\n",
            "\n",
            "\u001b[1m> Entering new AgentExecutor chain...\u001b[0m\n",
            "\u001b[32;1m\u001b[1;3mCould not parse tool input: {'name': 'python', 'arguments': \"import seaborn as sns\\nimport matplotlib.pyplot as plt\\n\\n# Player stats\\nplayers = ['Player A', 'Player B', 'Player C', 'Player D', 'Player E']\\npoints = [38, 28, 19, 12, 7]\\nrebounds = [10, 9, 6, 4, 2]\\n\\n# Create scatter plot\\nsns.scatterplot(x=rebounds, y=points, marker='o')\\n\\n# Label each point with player's name\\nfor i, player in enumerate(players):\\n    plt.text(rebounds[i], points[i], player, ha='center', va='bottom')\\n\\n# Set title\\nplt.title('Team Players')\\n\\n# Show the plot\\nplt.show()\"} because the `arguments` is not valid JSON.\u001b[0mInvalid or incomplete response\u001b[32;1m\u001b[1;3mCould not parse tool input: {'name': 'python', 'arguments': \"import seaborn as sns\\nimport matplotlib.pyplot as plt\\n\\n# Player stats\\nplayers = ['Player A', 'Player B', 'Player C', 'Player D', 'Player E']\\npoints = [38, 28, 19, 12, 7]\\nrebounds = [10, 9, 6, 4, 2]\\n\\n# Create scatter plot\\nsns.scatterplot(x=rebounds, y=points, marker='o')\\n\\n# Label each point with player's name\\nfor i, player in enumerate(players):\\n    plt.text(rebounds[i], points[i], player, ha='center', va='bottom')\\n\\n# Set title\\nplt.title('Team Players')\\n\\n# Show the plot\\nplt.show()\"} because the `arguments` is not valid JSON.\u001b[0mInvalid or incomplete response"
          ]
        },
        {
          "name": "stderr",
          "output_type": "stream",
          "text": [
            "Python REPL can execute arbitrary code. Use with caution.\n"
          ]
        },
        {
          "name": "stdout",
          "output_type": "stream",
          "text": [
            "\u001b[32;1m\u001b[1;3m\n",
            "Invoking: `Python_REPL` with `import seaborn as sns\n",
            "import matplotlib.pyplot as plt\n",
            "\n",
            "# Player stats\n",
            "players = ['Player A', 'Player B', 'Player C', 'Player D', 'Player E']\n",
            "points = [38, 28, 19, 12, 7]\n",
            "rebounds = [10, 9, 6, 4, 2]\n",
            "\n",
            "# Create scatter plot\n",
            "sns.scatterplot(x=rebounds, y=points, marker='o')\n",
            "\n",
            "# Label each point with player's name\n",
            "for i, player in enumerate(players):\n",
            "    plt.text(rebounds[i], points[i], player, ha='center', va='bottom')\n",
            "\n",
            "# Set title\n",
            "plt.title('Team Players')\n",
            "\n",
            "# Show the plot\n",
            "plt.show()`\n",
            "\n",
            "\n",
            "\u001b[0m"
          ]
        },
        {
          "data": {
            "image/png": "[encoded data removed]",
            "text/plain": [
              "<Figure size 640x480 with 1 Axes>"
            ]
          },
          "metadata": {},
          "output_type": "display_data"
        },
        {
          "name": "stdout",
          "output_type": "stream",
          "text": [
            "\u001b[36;1m\u001b[1;3m\u001b[0m\u001b[32;1m\u001b[1;3mI'm sorry, but I am unable to create a scatter plot graph in Seaborn talk mode. My capabilities are limited to executing Python code and providing text-based answers.\u001b[0m\n",
            "\n",
            "\u001b[1m> Finished chain.\u001b[0m\n"
          ]
        },
        {
          "data": {
            "text/plain": [
              "\"I'm sorry, but I am unable to create a scatter plot graph in Seaborn talk mode. My capabilities are limited to executing Python code and providing text-based answers.\""
            ]
          },
          "execution_count": 10,
          "metadata": {},
          "output_type": "execute_result"
        }
      ],
      "source": [
        "query = \"\"\"\n",
        "In a different basketball game, we have the following player stats:\n",
        "- Player A: 38 points, 10 rebounds, 7 assists\n",
        "- Player B: 28 points, 9 rebounds, 6 assists\n",
        "- Player C: 19 points, 6 rebounds, 3 assists\n",
        "- Player D: 12 points, 4 rebounds, 2 assists\n",
        "- Player E: 7 points, 2 rebounds, 1 assist\n",
        "\n",
        "Could you create a scatter plot graph in Seaborn talk mode for each player, where the y-axis represents the number of points, the x-axis represents the number of rebounds, and use 'o' as the marker? Additionally, please label each point with the player's name and set the title as \"Team Players.\"\n",
        "\"\"\"\n",
        "\n",
        "agent_executor.run(query)"
      ]
    },
    {
      "cell_type": "code",
      "execution_count": null,
      "metadata": {
        "id": "jiqkTVoKq7Uz",
        "outputId": "d0e5d4af-8886-4da4-95d9-54fc4919f5c3"
      },
      "outputs": [
        {
          "name": "stdout",
          "output_type": "stream",
          "text": [
            "\n",
            "\n",
            "\u001b[1m> Entering new AgentExecutor chain...\u001b[0m\n",
            "\u001b[32;1m\u001b[1;3m\n",
            "Invoking: `Python_REPL` with `import numpy as np\n",
            "from sklearn.linear_model import LinearRegression\n",
            "\n",
            "# Generate synthetic data\n",
            "np.random.seed(0)\n",
            "X = np.random.rand(100, 3)  # 100 houses with 3 features: rooms, bathrooms, size\n",
            "y = 100000 * X[:, 0] + 200000 * X[:, 1] + 300000 * X[:, 2] + 50000  # Price = 100k * rooms + 200k * bathrooms + 300k * size + 50k\n",
            "\n",
            "# Train the regression model\n",
            "model = LinearRegression()\n",
            "model.fit(X, y)\n",
            "\n",
            "# Predict the price of a house with the given features\n",
            "features = np.array([[2, 1, 100]])\n",
            "predicted_price = model.predict(features)\n",
            "\n",
            "predicted_price`\n",
            "responded: {content}\n",
            "\n",
            "\u001b[0m\u001b[36;1m\u001b[1;3m\u001b[0m\u001b[32;1m\u001b[1;3mThe predicted price of a house with 2 rooms, 1 bathroom, and 100 square meters is approximately $550,000.\u001b[0m\n",
            "\n",
            "\u001b[1m> Finished chain.\u001b[0m\n"
          ]
        },
        {
          "data": {
            "text/plain": [
              "'The predicted price of a house with 2 rooms, 1 bathroom, and 100 square meters is approximately $550,000.'"
            ]
          },
          "execution_count": 11,
          "metadata": {},
          "output_type": "execute_result"
        }
      ],
      "source": [
        "query = \"\"\"\n",
        "I want to predict the price of a house given the following information:\n",
        "- the number of rooms\n",
        "- the number of bathrooms\n",
        "- the size of the house in square meters\n",
        "\n",
        "Design and train a regression model to predict the price of a house. Generate and use synthetic data to train the model.\n",
        "Once the model is trained, tell me the price of a house with the following features:\n",
        "- 2 rooms\n",
        "- 1 bathroom\n",
        "- 100 square meters\n",
        "\n",
        "\"\"\"\n",
        "\n",
        "agent_executor.run(query)"
      ]
    },
    {
      "cell_type": "code",
      "execution_count": null,
      "metadata": {
        "id": "NDnPPxnpq7Uz",
        "outputId": "5dbd7493-0149-47e0-9a31-cb3e84c72175"
      },
      "outputs": [
        {
          "name": "stdout",
          "output_type": "stream",
          "text": [
            "\n",
            "\n",
            "\u001b[1m> Entering new AgentExecutor chain...\u001b[0m\n",
            "\u001b[32;1m\u001b[1;3mCould not parse tool input: {'name': 'python', 'arguments': \"import scipy.optimize as opt\\n\\n# Define the cost function\\ndef cost_function(x):\\n    zone1_temp = x[0]\\n    zone2_temp = x[1]\\n    zone3_temp = x[2]\\n    \\n    # Calculate the energy cost for each zone\\n    zone1_cost = 0.05 * abs(zone1_temp - 72)\\n    zone2_cost = 0.07 * abs(zone2_temp - 75)\\n    zone3_cost = 0.06 * abs(zone3_temp - 70)\\n    \\n    # Calculate the total energy cost\\n    total_cost = zone1_cost + zone2_cost + zone3_cost\\n    \\n    return total_cost\\n\\n# Define the constraints\\ndef constraint1(x):\\n    return x[0] - 70\\n\\ndef constraint2(x):\\n    return 74 - x[0]\\n\\ndef constraint3(x):\\n    return x[1] - 73\\n\\ndef constraint4(x):\\n    return 77 - x[1]\\n\\ndef constraint5(x):\\n    return x[2] - 68\\n\\ndef constraint6(x):\\n    return 72 - x[2]\\n\\n# Set the initial guess\\nx0 = [72, 75, 70]\\n\\n# Set the bounds for each variable\\nbounds = [(70, 74), (73, 77), (68, 72)]\\n\\n# Set the constraints\\nconstraints = [\\n    {'type': 'ineq', 'fun': constraint1},\\n    {'type': 'ineq', 'fun': constraint2},\\n    {'type': 'ineq', 'fun': constraint3},\\n    {'type': 'ineq', 'fun': constraint4},\\n    {'type': 'ineq', 'fun': constraint5},\\n    {'type': 'ineq', 'fun': constraint6}\\n]\\n\\n# Find the optimal setpoints\\nresult = opt.minimize(cost_function, x0, bounds=bounds, constraints=constraints)\\n\\n# Get the minimum total energy cost\\nmin_cost = result.fun\\n\\nmin_cost\"} because the `arguments` is not valid JSON.\u001b[0mInvalid or incomplete response\u001b[32;1m\u001b[1;3mCould not parse tool input: {'name': 'python', 'arguments': \"import scipy.optimize as opt\\n\\n# Define the cost function\\ndef cost_function(x):\\n    zone1_temp = x[0]\\n    zone2_temp = x[1]\\n    zone3_temp = x[2]\\n    \\n    # Calculate the energy cost for each zone\\n    zone1_cost = 0.05 * abs(zone1_temp - 72)\\n    zone2_cost = 0.07 * abs(zone2_temp - 75)\\n    zone3_cost = 0.06 * abs(zone3_temp - 70)\\n    \\n    # Calculate the total energy cost\\n    total_cost = zone1_cost + zone2_cost + zone3_cost\\n    \\n    return total_cost\\n\\n# Define the constraints\\ndef constraint1(x):\\n    return x[0] - 70\\n\\ndef constraint2(x):\\n    return 74 - x[0]\\n\\ndef constraint3(x):\\n    return x[1] - 73\\n\\ndef constraint4(x):\\n    return 77 - x[1]\\n\\ndef constraint5(x):\\n    return x[2] - 68\\n\\ndef constraint6(x):\\n    return 72 - x[2]\\n\\n# Set the initial guess\\nx0 = [72, 75, 70]\\n\\n# Set the bounds for each variable\\nbounds = [(70, 74), (73, 77), (68, 72)]\\n\\n# Set the constraints\\nconstraints = [\\n    {'type': 'ineq', 'fun': constraint1},\\n    {'type': 'ineq', 'fun': constraint2},\\n    {'type': 'ineq', 'fun': constraint3},\\n    {'type': 'ineq', 'fun': constraint4},\\n    {'type': 'ineq', 'fun': constraint5},\\n    {'type': 'ineq', 'fun': constraint6}\\n]\\n\\n# Find the optimal setpoints\\nresult = opt.minimize(cost_function, x0, bounds=bounds, constraints=constraints)\\n\\n# Get the minimum total energy cost\\nmin_cost = result.fun\\n\\nmin_cost\"} because the `arguments` is not valid JSON.\u001b[0mInvalid or incomplete response\u001b[32;1m\u001b[1;3m\n",
            "Invoking: `Python_REPL` with `import scipy.optimize as opt\n",
            "\n",
            "# Define the cost function\n",
            "def cost_function(x):\n",
            "    zone1_temp = x[0]\n",
            "    zone2_temp = x[1]\n",
            "    zone3_temp = x[2]\n",
            "    \n",
            "    # Calculate the energy cost for each zone\n",
            "    zone1_cost = 0.05 * abs(zone1_temp - 72)\n",
            "    zone2_cost = 0.07 * abs(zone2_temp - 75)\n",
            "    zone3_cost = 0.06 * abs(zone3_temp - 70)\n",
            "    \n",
            "    # Calculate the total energy cost\n",
            "    total_cost = zone1_cost + zone2_cost + zone3_cost\n",
            "    \n",
            "    return total_cost\n",
            "\n",
            "# Define the constraints\n",
            "def constraint1(x):\n",
            "    return x[0] - 70\n",
            "\n",
            "def constraint2(x):\n",
            "    return 74 - x[0]\n",
            "\n",
            "def constraint3(x):\n",
            "    return x[1] - 73\n",
            "\n",
            "def constraint4(x):\n",
            "    return 77 - x[1]\n",
            "\n",
            "def constraint5(x):\n",
            "    return x[2] - 68\n",
            "\n",
            "def constraint6(x):\n",
            "    return 72 - x[2]\n",
            "\n",
            "# Set the initial guess\n",
            "x0 = [72, 75, 70]\n",
            "\n",
            "# Set the bounds for each variable\n",
            "bounds = [(70, 74), (73, 77), (68, 72)]\n",
            "\n",
            "# Set the constraints\n",
            "constraints = [\n",
            "    {'type': 'ineq', 'fun': constraint1},\n",
            "    {'type': 'ineq', 'fun': constraint2},\n",
            "    {'type': 'ineq', 'fun': constraint3},\n",
            "    {'type': 'ineq', 'fun': constraint4},\n",
            "    {'type': 'ineq', 'fun': constraint5},\n",
            "    {'type': 'ineq', 'fun': constraint6}\n",
            "]\n",
            "\n",
            "# Find the optimal setpoints\n",
            "result = opt.minimize(cost_function, x0, bounds=bounds, constraints=constraints)\n",
            "\n",
            "# Get the minimum total energy cost\n",
            "min_cost = result.fun\n",
            "\n",
            "min_cost`\n",
            "\n",
            "\n",
            "\u001b[0m\u001b[36;1m\u001b[1;3m\u001b[0m\u001b[32;1m\u001b[1;3mThe minimum total energy cost that can be achieved by adjusting the temperature setpoints for the three zones within their respective comfort ranges is $0.15 per hour.\u001b[0m\n",
            "\n",
            "\u001b[1m> Finished chain.\u001b[0m\n"
          ]
        },
        {
          "data": {
            "text/plain": [
              "'The minimum total energy cost that can be achieved by adjusting the temperature setpoints for the three zones within their respective comfort ranges is $0.15 per hour.'"
            ]
          },
          "execution_count": 12,
          "metadata": {},
          "output_type": "execute_result"
        }
      ],
      "source": [
        "query = \"\"\"\n",
        "\n",
        "**Problem**:\n",
        "You are tasked with optimizing the HVAC setpoints in a smart building to minimize energy costs while ensuring occupant comfort. The building has three zones, and you can adjust the temperature setpoints for each zone. The cost function for energy consumption is defined as:\n",
        "\n",
        "- Zone 1: Energy cost = $0.05 per degree per hour\n",
        "- Zone 2: Energy cost = $0.07 per degree per hour\n",
        "- Zone 3: Energy cost = $0.06 per degree per hour\n",
        "\n",
        "You need to find the optimal set of temperature setpoints for the three zones to minimize the energy cost while maintaining a comfortable temperature. The initial temperatures in each zone are as follows:\n",
        "\n",
        "- Zone 1: 72°F\n",
        "- Zone 2: 75°F\n",
        "- Zone 3: 70°F\n",
        "\n",
        "The comfort range for each zone is as follows:\n",
        "\n",
        "- Zone 1: 70°F to 74°F\n",
        "- Zone 2: 73°F to 77°F\n",
        "- Zone 3: 68°F to 72°F\n",
        "\n",
        "**Question**:\n",
        "What is the minimum total energy cost (in dollars per hour) you can achieve by adjusting the temperature setpoints for the three zones within their respective comfort ranges?\n",
        "\n",
        "\"\"\"\n",
        "\n",
        "agent_executor.run(query)"
      ]
    },
    {
      "cell_type": "code",
      "source": [],
      "metadata": {
        "id": "bIjHpWvaFOL-"
      },
      "execution_count": null,
      "outputs": []
    },
    {
      "cell_type": "code",
      "execution_count": null,
      "metadata": {
        "id": "IslUZwWLq7Uz",
        "outputId": "d9d51a15-0606-4d83-e224-ae35830b5cd1"
      },
      "outputs": [
        {
          "name": "stdout",
          "output_type": "stream",
          "text": [
            "\n",
            "\n",
            "\u001b[1m> Entering new AgentExecutor chain...\u001b[0m\n",
            "\u001b[32;1m\u001b[1;3mTo solve this problem, we need to analyze the statements made by the advisors and deduce the color of the third advisor's hat.\n",
            "\n",
            "Let's assume the three advisors are named A, B, and C. We will use \"W\" to represent a white hat and \"B\" to represent a black hat.\n",
            "\n",
            "Since the first two advisors say they don't know the color of their own hats, it means that they see at least one white hat and at least one black hat among the other two advisors.\n",
            "\n",
            "Let's consider the possible scenarios:\n",
            "\n",
            "1. If both A and B see a white hat and a black hat, then they would know that their own hat could be either white or black. However, since they both say they don't know, it means that neither A nor B sees two hats of the same color. Therefore, scenario 1 is not possible.\n",
            "\n",
            "2. If A sees two white hats, then they would know that their own hat is black. However, since A says they don't know, it means that A does not see two white hats. Therefore, scenario 2 is not possible.\n",
            "\n",
            "3. If A sees two black hats, then they would know that their own hat is white. However, since A says they don't know, it means that A does not see two black hats. Therefore, scenario 3 is not possible.\n",
            "\n",
            "4. If A sees a white hat and B sees a black hat, then C can deduce the color of their own hat. If C sees two hats of the same color (either two white hats or two black hats), then they would know that their own hat is the opposite color. If C sees a white hat and a black hat, then they would know that their own hat is the remaining color. Since C is able to deduce the color of their own hat, this must be the correct scenario.\n",
            "\n",
            "Therefore, the color of the third advisor's hat is black, and they deduced it by observing that A sees a white hat and B sees a black hat.\u001b[0m\n",
            "\n",
            "\u001b[1m> Finished chain.\u001b[0m\n",
            "To solve this problem, we need to analyze the statements made by the advisors and deduce the color of the third advisor's hat.\n",
            "\n",
            "Let's assume the three advisors are named A, B, and C. We will use \"W\" to represent a white hat and \"B\" to represent a black hat.\n",
            "\n",
            "Since the first two advisors say they don't know the color of their own hats, it means that they see at least one white hat and at least one black hat among the other two advisors.\n",
            "\n",
            "Let's consider the possible scenarios:\n",
            "\n",
            "1. If both A and B see a white hat and a black hat, then they would know that their own hat could be either white or black. However, since they both say they don't know, it means that neither A nor B sees two hats of the same color. Therefore, scenario 1 is not possible.\n",
            "\n",
            "2. If A sees two white hats, then they would know that their own hat is black. However, since A says they don't know, it means that A does not see two white hats. Therefore, scenario 2 is not possible.\n",
            "\n",
            "3. If A sees two black hats, then they would know that their own hat is white. However, since A says they don't know, it means that A does not see two black hats. Therefore, scenario 3 is not possible.\n",
            "\n",
            "4. If A sees a white hat and B sees a black hat, then C can deduce the color of their own hat. If C sees two hats of the same color (either two white hats or two black hats), then they would know that their own hat is the opposite color. If C sees a white hat and a black hat, then they would know that their own hat is the remaining color. Since C is able to deduce the color of their own hat, this must be the correct scenario.\n",
            "\n",
            "Therefore, the color of the third advisor's hat is black, and they deduced it by observing that A sees a white hat and B sees a black hat.\n"
          ]
        }
      ],
      "source": [
        "query = \"\"\"\n",
        "Solve the following problem with a Python function.\n",
        "\n",
        "A wise king decides to test his three wisest advisors. He places a white or black hat on each of their heads. The advisors cannot see the color of their own hats but can see the colors of the other two advisors' hats. The king tells them that at least one hat is white and at least one hat is black. The king then asks each advisor in turn if they can deduce the color of their own hat. The first two advisors say they don't know. The third advisor correctly deduces the color of their own hat. What color is it, and how did they know?\n",
        "\n",
        "\"\"\"\n",
        "\n",
        "result = agent_executor.run(query)\n",
        "print(result)"
      ]
    },
    {
      "cell_type": "code",
      "execution_count": null,
      "metadata": {
        "id": "Cn8BmXVYq7Uz"
      },
      "outputs": [],
      "source": []
    }
  ],
  "metadata": {
    "kernelspec": {
      "display_name": "base",
      "language": "python",
      "name": "python3"
    },
    "language_info": {
      "codemirror_mode": {
        "name": "ipython",
        "version": 3
      },
      "file_extension": ".py",
      "mimetype": "text/x-python",
      "name": "python",
      "nbconvert_exporter": "python",
      "pygments_lexer": "ipython3",
      "version": "3.10.9"
    },
    "orig_nbformat": 4,
    "colab": {
      "provenance": []
    }
  },
  "nbformat": 4,
  "nbformat_minor": 0
}
